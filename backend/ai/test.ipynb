{
 "cells": [
  {
   "cell_type": "code",
   "execution_count": null,
   "id": "d54131b1",
   "metadata": {},
   "outputs": [],
   "source": [
    "import torch\n",
    "\n",
    "device = \"cuda\" if torch.cuda.is_available() else \"cpu\""
   ]
  },
  {
   "cell_type": "code",
   "execution_count": null,
   "id": "a8cc97ce",
   "metadata": {},
   "outputs": [],
   "source": [
    "from langchain_huggingface.embeddings import HuggingFaceEmbeddings\n",
    "\n",
    "embeddings = HuggingFaceEmbeddings(\n",
    "    model_name=\"BAAI/bge-large-en-v1.5\", model_kwargs={\"device\": device}\n",
    ")"
   ]
  },
  {
   "cell_type": "code",
   "execution_count": null,
   "id": "4e4ef2ef",
   "metadata": {},
   "outputs": [],
   "source": [
    "from dotenv import load_dotenv\n",
    "from pinecone import Pinecone\n",
    "\n",
    "load_dotenv()\n",
    "pc = Pinecone()\n",
    "index = pc.Index(\"faqs\")"
   ]
  },
  {
   "cell_type": "code",
   "execution_count": null,
   "id": "011b5d50",
   "metadata": {},
   "outputs": [],
   "source": [
    "from langchain_pinecone import PineconeVectorStore\n",
    "\n",
    "vector_store = PineconeVectorStore(index=index, embedding=embeddings)"
   ]
  },
  {
   "cell_type": "code",
   "execution_count": null,
   "id": "9d2c9741",
   "metadata": {},
   "outputs": [],
   "source": [
    "vector_store.similarity_search(\"forget password\", k=3)"
   ]
  },
  {
   "cell_type": "code",
   "execution_count": null,
   "id": "16372b59",
   "metadata": {},
   "outputs": [],
   "source": [
    "retriever = vector_store.as_retriever(\n",
    "    search_type=\"similarity\",\n",
    "    search_kwargs={\"k\": 5},\n",
    ")\n",
    "retriever.invoke(\"how can i stay healthy?\")"
   ]
  },
  {
   "cell_type": "code",
   "execution_count": null,
   "id": "e6c2087a",
   "metadata": {},
   "outputs": [],
   "source": [
    "retriever = vector_store.as_retriever(\n",
    "    search_type=\"mmr\",\n",
    "    search_kwargs={\"k\": 5, \"lambda_mult\": 0.5},\n",
    ")\n",
    "retriever.invoke(\"how can i stay healthy?\")"
   ]
  },
  {
   "cell_type": "code",
   "execution_count": null,
   "id": "607b0cbe",
   "metadata": {},
   "outputs": [],
   "source": [
    "from langchain.chat_models import init_chat_model\n",
    "from langchain.retrievers.multi_query import MultiQueryRetriever\n",
    "\n",
    "question = \"Forget\"\n",
    "llm = init_chat_model(\"gemini-2.5-flash\", model_provider=\"google_genai\")\n",
    "retriever_from_llm = MultiQueryRetriever.from_llm(\n",
    "    retriever=vector_store.as_retriever(\n",
    "        search_type=\"mmr\", search_kwargs={\"k\": 4, \"lambda_mult\": 0.5}\n",
    "    ),\n",
    "    llm=llm,\n",
    ")"
   ]
  },
  {
   "cell_type": "code",
   "execution_count": null,
   "id": "cf3d64f6",
   "metadata": {},
   "outputs": [],
   "source": []
  },
  {
   "cell_type": "code",
   "execution_count": null,
   "id": "52125519",
   "metadata": {},
   "outputs": [],
   "source": []
  },
  {
   "cell_type": "code",
   "execution_count": null,
   "id": "1e3e89e3",
   "metadata": {},
   "outputs": [],
   "source": []
  },
  {
   "cell_type": "code",
   "execution_count": null,
   "id": "b688c774",
   "metadata": {},
   "outputs": [],
   "source": []
  },
  {
   "cell_type": "code",
   "execution_count": null,
   "id": "0b722506",
   "metadata": {},
   "outputs": [],
   "source": []
  },
  {
   "cell_type": "code",
   "execution_count": null,
   "id": "32d7e933",
   "metadata": {},
   "outputs": [],
   "source": [
    "import torch\n",
    "from langchain_huggingface.embeddings import HuggingFaceEmbeddings\n",
    "\n",
    "device = \"cuda\" if torch.cuda.is_available() else \"cpu\"\n",
    "embeddings = HuggingFaceEmbeddings(\n",
    "    model_name=\"BAAI/bge-large-en-v1.5\", model_kwargs={\"device\": device}\n",
    ")\n",
    "\n",
    "\n",
    "from pinecone import Pinecone\n",
    "\n",
    "pc = Pinecone()\n",
    "index = pc.Index(\"faqs\")\n",
    "\n",
    "\n",
    "from langchain_pinecone import PineconeVectorStore\n",
    "\n",
    "vector_store = PineconeVectorStore(index=index, embedding=embeddings)\n",
    "\n",
    "from langchain.chat_models import init_chat_model\n",
    "from langchain.retrievers.multi_query import MultiQueryRetriever\n",
    "\n",
    "llm = init_chat_model(\"gemini-2.5-flash\", model_provider=\"google_genai\")\n",
    "retriever = MultiQueryRetriever.from_llm(\n",
    "    retriever=vector_store.as_retriever(\n",
    "        search_type=\"mmr\", search_kwargs={\"k\": 4, \"lambda_mult\": 0.5}\n",
    "    ),\n",
    "    llm=llm,\n",
    ")"
   ]
  },
  {
   "cell_type": "code",
   "execution_count": null,
   "id": "cc49e628",
   "metadata": {},
   "outputs": [],
   "source": [
    "query = \"forget\""
   ]
  },
  {
   "cell_type": "code",
   "execution_count": null,
   "id": "d7204903",
   "metadata": {},
   "outputs": [],
   "source": [
    "retriever.invoke(query)"
   ]
  },
  {
   "cell_type": "code",
   "execution_count": null,
   "id": "53fd3edc",
   "metadata": {},
   "outputs": [],
   "source": [
    "from langchain_core.prompts import PromptTemplate\n",
    "\n",
    "template = \"\"\"Use the following pieces of context to answer the question at the end.\n",
    "If you don't know the answer, just say that you don't know, don't try to make up an answer.\n",
    "Use three sentences maximum and keep the answer as concise as possible.\n",
    "Always say \"thanks for asking!\" at the end of the answer.\n",
    "\n",
    "{context}\n",
    "\n",
    "Question: {question}\n",
    "\n",
    "Helpful Answer:\"\"\"\n",
    "custom_rag_prompt = PromptTemplate.from_template(template)"
   ]
  },
  {
   "cell_type": "code",
   "execution_count": null,
   "id": "de0bab70",
   "metadata": {},
   "outputs": [],
   "source": []
  },
  {
   "cell_type": "code",
   "execution_count": null,
   "id": "9131c57a",
   "metadata": {},
   "outputs": [],
   "source": []
  },
  {
   "cell_type": "code",
   "execution_count": null,
   "id": "e5a26a55",
   "metadata": {},
   "outputs": [],
   "source": []
  },
  {
   "cell_type": "code",
   "execution_count": null,
   "id": "27153cff",
   "metadata": {},
   "outputs": [],
   "source": []
  },
  {
   "cell_type": "code",
   "execution_count": null,
   "id": "4f4a551e",
   "metadata": {},
   "outputs": [],
   "source": []
  },
  {
   "cell_type": "code",
   "execution_count": null,
   "id": "c4de04b0",
   "metadata": {},
   "outputs": [],
   "source": [
    "from langchain.chat_models import init_chat_model\n",
    "\n",
    "llm = init_chat_model(\"gemini-2.5-flash\", model_provider=\"google_genai\")"
   ]
  },
  {
   "cell_type": "code",
   "execution_count": null,
   "id": "eeb2b5ef",
   "metadata": {},
   "outputs": [],
   "source": [
    "from langchain_core.prompts import ChatPromptTemplate\n",
    "from pydantic import BaseModel, Field\n",
    "\n",
    "tagging_prompt = ChatPromptTemplate.from_template(\n",
    "    \"\"\"\n",
    "Extract the desired information from the following passage.\n",
    "\n",
    "Only extract the properties mentioned in the 'Classification' function.\n",
    "\n",
    "Passage:\n",
    "{input}\n",
    "\"\"\"\n",
    ")\n",
    "\n",
    "\n",
    "class Classification(BaseModel):\n",
    "    sentiment: str = Field(..., enum=[\"happy\", \"neutral\", \"sad\"])\n",
    "    aggressiveness: int = Field(\n",
    "        ...,\n",
    "        description=\"describes how aggressive the statement is, the higher the number the more aggressive\",\n",
    "        enum=[1, 2, 3, 4, 5],\n",
    "    )\n",
    "    language: str = Field(\n",
    "        ..., enum=[\"spanish\", \"english\", \"french\", \"german\", \"italian\"]\n",
    "    )\n",
    "\n",
    "\n",
    "# Structured LLM\n",
    "structured_llm = llm.with_structured_output(Classification)"
   ]
  },
  {
   "cell_type": "code",
   "execution_count": null,
   "id": "3abef305",
   "metadata": {},
   "outputs": [
    {
     "ename": "",
     "evalue": "",
     "output_type": "error",
     "traceback": [
      "\u001b[1;31mRunning cells with 'ai (3.12.11) (Python 3.12.11)' requires the ipykernel package.\n",
      "\u001b[1;31mInstall 'ipykernel' into the Python environment. \n",
      "\u001b[1;31mCommand: '/mnt/d/Sourabh_critical/ids-hackathon/backend/ai/.venv/bin/python -m pip install ipykernel -U --force-reinstall'"
     ]
    }
   ],
   "source": [
    "\"ff\""
   ]
  },
  {
   "cell_type": "code",
   "execution_count": 9,
   "id": "75884b7c",
   "metadata": {},
   "outputs": [
    {
     "name": "stderr",
     "output_type": "stream",
     "text": [
      "WARNING: All log messages before absl::InitializeLog() is called are written to STDERR\n",
      "E0000 00:00:1759297795.171370  464243 alts_credentials.cc:93] ALTS creds ignored. Not running on GCP and untrusted ALTS is not enabled.\n"
     ]
    }
   ],
   "source": [
    "from langchain.chat_models import init_chat_model\n",
    "\n",
    "llm = init_chat_model(\"gemini-2.5-flash\", model_provider=\"google_genai\")"
   ]
  },
  {
   "cell_type": "code",
   "execution_count": null,
   "id": "da867596",
   "metadata": {},
   "outputs": [],
   "source": [
    "from langchain_core.prompts import ChatPromptTemplate\n",
    "from pydantic import BaseModel, Field\n",
    "class Classification(BaseModel):\n",
    "    sentiment: str = Field(..., enum=[\"happy\", \"neutral\", \"sad\"])\n",
    "    aggressiveness: int = Field(\n",
    "        ...,\n",
    "        description=\"describes how aggressive the statement is, the higher the number the more aggressive\",\n",
    "        enum=[1, 2, 3, 4, 5],\n",
    "    )\n",
    "    language: str = Field(\n",
    "        ..., enum=[\"spanish\", \"english\", \"french\", \"german\", \"italian\"]\n",
    "    )"
   ]
  },
  {
   "cell_type": "code",
   "execution_count": 21,
   "id": "26c10157",
   "metadata": {},
   "outputs": [],
   "source": [
    "tagging_prompt = ChatPromptTemplate.from_template(\n",
    "    \"\"\"\n",
    "Extract the desired information from the following passage.\n",
    "\n",
    "Only extract the properties mentioned in the 'Classification' function.\n",
    "\n",
    "Passage:\n",
    "{input}\n",
    "\"\"\"\n",
    ")\n",
    "\n",
    "a = llm.invoke(f\"i forget password you are bad person\\n out should be in {Classification.model_json_schema()} \")"
   ]
  },
  {
   "cell_type": "code",
   "execution_count": 22,
   "id": "1bf09a00",
   "metadata": {},
   "outputs": [
    {
     "name": "stdout",
     "output_type": "stream",
     "text": [
      "```json\n",
      "{\n",
      "  \"sentiment\": \"sad\",\n",
      "  \"aggressiveness\": 5,\n",
      "  \"language\": \"english\"\n",
      "}\n",
      "```\n"
     ]
    }
   ],
   "source": [
    "print(a.content)"
   ]
  },
  {
   "cell_type": "code",
   "execution_count": 26,
   "id": "fc5dc15a",
   "metadata": {},
   "outputs": [
    {
     "data": {
      "text/plain": [
       "Classification(sentiment='sad', aggressiveness=5, language='english')"
      ]
     },
     "execution_count": 26,
     "metadata": {},
     "output_type": "execute_result"
    }
   ],
   "source": [
    "Classification(**{\n",
    "  \"sentiment\": \"sad\",\n",
    "  \"aggressiveness\": 5,\n",
    "  \"language\": \"english\"\n",
    "})"
   ]
  },
  {
   "cell_type": "code",
   "execution_count": null,
   "id": "53e142ac",
   "metadata": {},
   "outputs": [],
   "source": []
  },
  {
   "cell_type": "code",
   "execution_count": null,
   "id": "a1fa296b",
   "metadata": {},
   "outputs": [],
   "source": []
  },
  {
   "cell_type": "code",
   "execution_count": null,
   "id": "cd2fe7ae",
   "metadata": {},
   "outputs": [],
   "source": []
  },
  {
   "cell_type": "code",
   "execution_count": 69,
   "id": "74478819",
   "metadata": {},
   "outputs": [
    {
     "name": "stderr",
     "output_type": "stream",
     "text": [
      "E0000 00:00:1759737521.519817 2987278 alts_credentials.cc:93] ALTS creds ignored. Not running on GCP and untrusted ALTS is not enabled.\n"
     ]
    },
    {
     "name": "stdout",
     "output_type": "stream",
     "text": [
      "('Desktop_Login_Issue', 93.94)\n",
      "Priority.VeryHigh\n"
     ]
    }
   ],
   "source": [
    "from langchain.chat_models import init_chat_model\n",
    "# from langchain.output_parsers import EnumOutputParser\n",
    "from langchain_core.output_parsers import PydanticOutputParser\n",
    "from langchain_core.prompts import PromptTemplate\n",
    "from pydantic import BaseModel, Field, model_validator\n",
    "\n",
    "model = init_chat_model(\"gemini-2.5-flash\", model_provider=\"google_genai\")\n",
    "\n",
    "from enum import Enum\n",
    "\n",
    "from langchain.output_parsers import OutputFixingParser\n",
    "from pydantic import BaseModel, Field, conint\n",
    "\n",
    "\n",
    "class CategoriesProbabilities(BaseModel):\n",
    "    Desktop: float = Field(\n",
    "        ...,\n",
    "        description=\"Probability that the ticket relates to general desktop issues, including software, settings, or performance.\",\n",
    "    )\n",
    "    Desktop_Application: float = Field(\n",
    "        ...,\n",
    "        description=\"Probability that the ticket is about problems with installed desktop applications (e.g., MS Office, browsers).\",\n",
    "    )\n",
    "    Desktop_Asset_Management: float = Field(\n",
    "        ...,\n",
    "        description=\"Probability that the ticket concerns desktop asset tracking, inventory, or allocation.\",\n",
    "    )\n",
    "    Desktop_Hardware: float = Field(\n",
    "        ...,\n",
    "        description=\"Probability that the ticket is related to physical hardware issues such as monitor, keyboard, or peripherals.\",\n",
    "    )\n",
    "    Desktop_Login_Issue: float = Field(\n",
    "        ...,\n",
    "        description=\"Probability that the ticket is about desktop login problems, like incorrect credentials or account lockouts.\",\n",
    "    )\n",
    "    Desktop_Storage: float = Field(\n",
    "        ...,\n",
    "        description=\"Probability that the ticket involves local storage issues, such as low disk space or drive access problems.\",\n",
    "    )\n",
    "\n",
    "    Email: float = Field(\n",
    "        ...,\n",
    "        description=\"Probability that the ticket relates to general email issues, including access, sync, or configuration problems.\",\n",
    "    )\n",
    "    Email_Email_Create: float = Field(\n",
    "        ...,\n",
    "        description=\"Probability that the ticket is a request to create a new company email ID or mailbox.\",\n",
    "    )\n",
    "    Email_Whitelist_Email: float = Field(\n",
    "        ...,\n",
    "        description=\"Probability that the ticket requests to whitelist an email address or domain to prevent blocking or spam issues.\",\n",
    "    )\n",
    "\n",
    "    Internet: float = Field(\n",
    "        ...,\n",
    "        description=\"Probability that the ticket relates to internet connectivity issues, such as no access, slow speed, or frequent disconnections.\",\n",
    "    )\n",
    "    Network: float = Field(\n",
    "        ...,\n",
    "        description=\"Probability that the ticket involves internal network problems, including LAN/Wi-Fi issues or access to shared resources.\",\n",
    "    )\n",
    "    International_Calling: float = Field(\n",
    "        ...,\n",
    "        description=\"Probability that the ticket relates to enabling, disabling, or troubleshooting international calling services.\",\n",
    "    )\n",
    "\n",
    "    Server: float = Field(\n",
    "        ...,\n",
    "        description=\"Probability that the ticket is about general server-related issues or requests not covered by subcategories.\",\n",
    "    )\n",
    "    Server_Application: float = Field(\n",
    "        ...,\n",
    "        description=\"Probability that the ticket concerns applications hosted on servers, including downtime or access errors.\",\n",
    "    )\n",
    "    Server_Client_Servers: float = Field(\n",
    "        ...,\n",
    "        description=\"Probability that the ticket relates to client-specific servers, configurations, or deployment problems.\",\n",
    "    )\n",
    "\n",
    "    Storage: float = Field(\n",
    "        ...,\n",
    "        description=\"Probability that the ticket involves shared or cloud storage issues (e.g., OneDrive, NAS, shared drives).\",\n",
    "    )\n",
    "    Printing: float = Field(\n",
    "        ...,\n",
    "        description=\"Probability that the ticket is about printing issues, such as printer detection, queue errors, or print quality problems.\",\n",
    "    )\n",
    "\n",
    "    Website_Blocked: float = Field(\n",
    "        ...,\n",
    "        description=\"Probability that the ticket requests access to a blocked website or restricted web content.\",\n",
    "    )\n",
    "    New_Service_Request: float = Field(\n",
    "        ...,\n",
    "        description=\"Probability that the ticket is a request for a new IT service, software installation, or hardware provisioning.\",\n",
    "    )\n",
    "\n",
    "    CSG_PDG: float = Field(\n",
    "        ...,\n",
    "        description=\"Probability that the ticket is related to Corporate Services Group – Product Development Group internal tools or systems.\",\n",
    "    )\n",
    "    Others: float = Field(\n",
    "        ...,\n",
    "        description=\"Probability that the ticket does not fall into any predefined categories and needs manual review or reassignment.\",\n",
    "    )\n",
    "\n",
    "    def top_category(self) -> tuple[str, float]:\n",
    "        data = self.model_dump()  # Pydantic v2\n",
    "        return max(data.items(), key=lambda kv: kv[1])\n",
    "\n",
    "\n",
    "class Priority(Enum):\n",
    "    VeryHigh = 1\n",
    "    High = 2\n",
    "    Normal = 3\n",
    "    Low = 4\n",
    "    VeryLow = 5\n",
    "\n",
    "\n",
    "class TicketPrediction(BaseModel):\n",
    "    categories_probabilities: CategoriesProbabilities = Field(\n",
    "        ..., description=\"Probability scores for each ticket category.\"\n",
    "    )\n",
    "    priority: Priority = Field(\n",
    "        ...,\n",
    "        description=(\n",
    "            \"Priority of the ticket, from 1 to 5:\\n\"\n",
    "            \"1 = Very High\\n\"\n",
    "            \"2 = High\\n\"\n",
    "            \"3 = Normal\\n\"\n",
    "            \"4 = Low\\n\"\n",
    "            \"5 = Very Low\"\n",
    "        ),\n",
    "    )\n",
    "\n",
    "\n",
    "# Set up a parser + inject instructions into the prompt template.\n",
    "parser = PydanticOutputParser(pydantic_object=TicketPrediction)\n",
    "\n",
    "new_parser = OutputFixingParser.from_llm(parser=parser, llm=model)\n",
    "\n",
    "prompt = PromptTemplate(\n",
    "    template=\"\"\"\n",
    "You are an IT support ticket classifier.\n",
    "\n",
    "Given the ticket description, provide the following:\n",
    "\n",
    "1. **categories_probabilities**: a probability score (in percentage) for each ticket category that represents how likely the ticket belongs to that category.\n",
    "   - All probabilities must sum up to 100%.\n",
    "   - No two categories should have the same probability score.\n",
    "\n",
    "2. **priority**: one of the following Enum values (VeryHigh = 1, High = 2, Normal = 3, Low = 4, VeryLow = 5), representing how important it is to resolve the issue quickly so that there are no work blockers or wasted time.\n",
    "\n",
    "{format_instructions}\n",
    "\n",
    "Ticket Description:\n",
    "\"{query}\"\n",
    "\"\"\",\n",
    "    input_variables=[\"query\"],\n",
    "    # partial_variables={\"format_instructions\": new_parser.get_format_instructions()},\n",
    "    partial_variables={\"format_instructions\": new_parser.get_format_instructions()},\n",
    ")\n",
    "\n",
    "\n",
    "# And a query intended to prompt a language model to populate the data structure.\n",
    "prompt_and_model = prompt | model\n",
    "output = prompt_and_model.invoke({\"query\": \"my active directory is locked\"})\n",
    "opt = parser.invoke(output)\n",
    "print(opt.categories_probabilities.top_category())\n",
    "print(opt.priority)"
   ]
  },
  {
   "cell_type": "code",
   "execution_count": 70,
   "id": "7125ed16",
   "metadata": {},
   "outputs": [
    {
     "data": {
      "text/plain": [
       "('Desktop_Login_Issue', 93.94)"
      ]
     },
     "execution_count": 70,
     "metadata": {},
     "output_type": "execute_result"
    }
   ],
   "source": [
    "opt.categories_probabilities.top_category()"
   ]
  },
  {
   "cell_type": "code",
   "execution_count": 42,
   "id": "7589eb1e",
   "metadata": {},
   "outputs": [
    {
     "name": "stdout",
     "output_type": "stream",
     "text": [
      "\n",
      "You are an IT support ticket classifier.\n",
      "\n",
      "Given the ticket description, provide the following:\n",
      "\n",
      "1. **categories_probabilities**: a probability score (in percentage) for each ticket category that represents how likely the ticket belongs to that category.\n",
      "   - All probabilities must sum up to 100%.\n",
      "   - No two categories should have the same probability score.\n",
      "\n",
      "2. **priority**: one of the following Enum values (VeryHigh = 1, High = 2, Normal = 3, Low = 4, VeryLow = 5), representing how important it is to resolve the issue quickly so that there are no work blockers or wasted time.\n",
      "\n",
      "Output the result in JSON format compatible with the `TicketPrediction` Pydantic model.\n",
      "\n",
      "The output should be formatted as a JSON instance that conforms to the JSON schema below.\n",
      "\n",
      "As an example, for the schema {\"properties\": {\"foo\": {\"title\": \"Foo\", \"description\": \"a list of strings\", \"type\": \"array\", \"items\": {\"type\": \"string\"}}}, \"required\": [\"foo\"]}\n",
      "the object {\"foo\": [\"bar\", \"baz\"]} is a well-formatted instance of the schema. The object {\"properties\": {\"foo\": [\"bar\", \"baz\"]}} is not well-formatted.\n",
      "\n",
      "Here is the output schema:\n",
      "```\n",
      "{\"$defs\": {\"CategoriesProbabilities\": {\"properties\": {\"Desktop\": {\"description\": \"Probability that the ticket relates to general desktop issues, including software, settings, or performance.\", \"title\": \"Desktop\", \"type\": \"number\"}, \"Desktop_Application\": {\"description\": \"Probability that the ticket is about problems with installed desktop applications (e.g., MS Office, browsers).\", \"title\": \"Desktop Application\", \"type\": \"number\"}, \"Desktop_Asset_Management\": {\"description\": \"Probability that the ticket concerns desktop asset tracking, inventory, or allocation.\", \"title\": \"Desktop Asset Management\", \"type\": \"number\"}, \"Desktop_Hardware\": {\"description\": \"Probability that the ticket is related to physical hardware issues such as monitor, keyboard, or peripherals.\", \"title\": \"Desktop Hardware\", \"type\": \"number\"}, \"Desktop_Login_Issue\": {\"description\": \"Probability that the ticket is about desktop login problems, like incorrect credentials or account lockouts.\", \"title\": \"Desktop Login Issue\", \"type\": \"number\"}, \"Desktop_Storage\": {\"description\": \"Probability that the ticket involves local storage issues, such as low disk space or drive access problems.\", \"title\": \"Desktop Storage\", \"type\": \"number\"}, \"Email\": {\"description\": \"Probability that the ticket relates to general email issues, including access, sync, or configuration problems.\", \"title\": \"Email\", \"type\": \"number\"}, \"Email_Email_Create\": {\"description\": \"Probability that the ticket is a request to create a new company email ID or mailbox.\", \"title\": \"Email Email Create\", \"type\": \"number\"}, \"Email_Whitelist_Email\": {\"description\": \"Probability that the ticket requests to whitelist an email address or domain to prevent blocking or spam issues.\", \"title\": \"Email Whitelist Email\", \"type\": \"number\"}, \"Internet\": {\"description\": \"Probability that the ticket relates to internet connectivity issues, such as no access, slow speed, or frequent disconnections.\", \"title\": \"Internet\", \"type\": \"number\"}, \"Network\": {\"description\": \"Probability that the ticket involves internal network problems, including LAN/Wi-Fi issues or access to shared resources.\", \"title\": \"Network\", \"type\": \"number\"}, \"International_Calling\": {\"description\": \"Probability that the ticket relates to enabling, disabling, or troubleshooting international calling services.\", \"title\": \"International Calling\", \"type\": \"number\"}, \"Server\": {\"description\": \"Probability that the ticket is about general server-related issues or requests not covered by subcategories.\", \"title\": \"Server\", \"type\": \"number\"}, \"Server_Application\": {\"description\": \"Probability that the ticket concerns applications hosted on servers, including downtime or access errors.\", \"title\": \"Server Application\", \"type\": \"number\"}, \"Server_Client_Servers\": {\"description\": \"Probability that the ticket relates to client-specific servers, configurations, or deployment problems.\", \"title\": \"Server Client Servers\", \"type\": \"number\"}, \"Storage\": {\"description\": \"Probability that the ticket involves shared or cloud storage issues (e.g., OneDrive, NAS, shared drives).\", \"title\": \"Storage\", \"type\": \"number\"}, \"Printing\": {\"description\": \"Probability that the ticket is about printing issues, such as printer detection, queue errors, or print quality problems.\", \"title\": \"Printing\", \"type\": \"number\"}, \"Website_Blocked\": {\"description\": \"Probability that the ticket requests access to a blocked website or restricted web content.\", \"title\": \"Website Blocked\", \"type\": \"number\"}, \"New_Service_Request\": {\"description\": \"Probability that the ticket is a request for a new IT service, software installation, or hardware provisioning.\", \"title\": \"New Service Request\", \"type\": \"number\"}, \"CSG_PDG\": {\"description\": \"Probability that the ticket is related to Corporate Services Group – Product Development Group internal tools or systems.\", \"title\": \"Csg Pdg\", \"type\": \"number\"}, \"Others\": {\"description\": \"Probability that the ticket does not fall into any predefined categories and needs manual review or reassignment.\", \"title\": \"Others\", \"type\": \"number\"}}, \"required\": [\"Desktop\", \"Desktop_Application\", \"Desktop_Asset_Management\", \"Desktop_Hardware\", \"Desktop_Login_Issue\", \"Desktop_Storage\", \"Email\", \"Email_Email_Create\", \"Email_Whitelist_Email\", \"Internet\", \"Network\", \"International_Calling\", \"Server\", \"Server_Application\", \"Server_Client_Servers\", \"Storage\", \"Printing\", \"Website_Blocked\", \"New_Service_Request\", \"CSG_PDG\", \"Others\"], \"title\": \"CategoriesProbabilities\", \"type\": \"object\"}, \"Priority\": {\"enum\": [1, 2, 3, 4, 5], \"title\": \"Priority\", \"type\": \"integer\"}}, \"properties\": {\"categories_probabilities\": {\"$ref\": \"#/$defs/CategoriesProbabilities\", \"description\": \"Probability scores for each ticket category.\"}, \"priority\": {\"$ref\": \"#/$defs/Priority\", \"description\": \"Priority of the ticket, from 1 to 5:\\n1 = Very High\\n2 = High\\n3 = Normal\\n4 = Low\\n5 = Very Low\"}}, \"required\": [\"categories_probabilities\", \"priority\"]}\n",
      "```\n",
      "\n",
      "Ticket Description:\n",
      "\"it is very good  my  bloody son.\"\n",
      "\n"
     ]
    }
   ],
   "source": [
    "print(prompt.invoke({\"query\": \"it is very good  my  bloody son.\"}).to_string())"
   ]
  },
  {
   "cell_type": "code",
   "execution_count": 2,
   "id": "8bc14148",
   "metadata": {},
   "outputs": [
    {
     "name": "stderr",
     "output_type": "stream",
     "text": [
      "E0000 00:00:1759818928.521625 3489210 alts_credentials.cc:93] ALTS creds ignored. Not running on GCP and untrusted ALTS is not enabled.\n",
      "E0000 00:00:1759818928.543623 3489210 alts_credentials.cc:93] ALTS creds ignored. Not running on GCP and untrusted ALTS is not enabled.\n"
     ]
    },
    {
     "data": {
      "text/plain": [
       "{'ticket_class': {'service': {'service_name': '', 'service_id': '2'},\n",
       "  'role': 'cloud engineer',\n",
       "  'type': {'type_name': '', 'type_id': '5'}},\n",
       " 'priority': 3}"
      ]
     },
     "execution_count": 2,
     "metadata": {},
     "output_type": "execute_result"
    }
   ],
   "source": [
    "from support_hub.ticket_classifier.ticket_classification import run_ticket_classification\n",
    "\n",
    "await run_ticket_classification(\"create new s3 bucket for me?\")"
   ]
  },
  {
   "cell_type": "code",
   "execution_count": 1,
   "id": "8b21758a",
   "metadata": {},
   "outputs": [
    {
     "name": "stderr",
     "output_type": "stream",
     "text": [
      "WARNING: All log messages before absl::InitializeLog() is called are written to STDERR\n",
      "E0000 00:00:1759818907.220970 3489210 alts_credentials.cc:93] ALTS creds ignored. Not running on GCP and untrusted ALTS is not enabled.\n",
      "E0000 00:00:1759818907.267192 3489210 alts_credentials.cc:93] ALTS creds ignored. Not running on GCP and untrusted ALTS is not enabled.\n"
     ]
    },
    {
     "data": {
      "text/plain": [
       "{'ticket_class': {'service': {'service_name': 'Desktop Login',\n",
       "   'service_id': '18'},\n",
       "  'role': 'Manager',\n",
       "  'type': {'type_name': '', 'type_id': '5'}},\n",
       " 'priority': 1}"
      ]
     },
     "execution_count": 1,
     "metadata": {},
     "output_type": "execute_result"
    }
   ],
   "source": [
    "from support_hub.ticket_classifier.ticket_classification import run_ticket_classification\n",
    "\n",
    "await run_ticket_classification(\"my active directory is locked\")"
   ]
  },
  {
   "cell_type": "code",
   "execution_count": null,
   "id": "071ff3ce",
   "metadata": {},
   "outputs": [],
   "source": []
  },
  {
   "cell_type": "code",
   "execution_count": 9,
   "id": "c10ea72a",
   "metadata": {},
   "outputs": [
    {
     "name": "stdout",
     "output_type": "stream",
     "text": [
      "{'status': True, 'status_code': 200, 'message': 'List fetched successfully', 'data': [{'role': 'Computer Hardware Engineer'}, {'role': 'Linux Admin'}, {'role': 'Manager'}, {'role': 'cloud engineer'}]}\n"
     ]
    }
   ],
   "source": [
    "import asyncio\n",
    "import aiohttp\n",
    "import json\n",
    "\n",
    "async def fetch_skills(session, base_url):\n",
    "    \"\"\"\n",
    "    Asynchronously fetch skills data from the API endpoint.\n",
    "    \n",
    "    Args:\n",
    "        session (aiohttp.ClientSession): The aiohttp session for making requests.\n",
    "        base_url (str): The base URL of the API (e.g., 'http://example.com').\n",
    "    \n",
    "    Returns:\n",
    "        dict: The parsed JSON response.\n",
    "    \"\"\"\n",
    "    url = f\"{base_url}/api/skills/\"\n",
    "    async with session.get(url) as response:\n",
    "        # if response.status == 200:\n",
    "            return await response.json()\n",
    "        # else:\n",
    "        #     raise Exception(f\"Failed to fetch data: HTTP {response.status}\")\n",
    "\n",
    "async with aiohttp.ClientSession() as session:\n",
    "       \n",
    "            data = await fetch_skills(session, \"http://192.168.71.115\")\n",
    "            print(data)"
   ]
  },
  {
   "cell_type": "code",
   "execution_count": null,
   "id": "87a9fd97",
   "metadata": {},
   "outputs": [
    {
     "data": {
      "text/plain": [
       "{'roles': ['Computer Hardware Engineer',\n",
       "  'Linux Admin',\n",
       "  'Manager',\n",
       "  'cloud engineer']}"
      ]
     },
     "execution_count": 21,
     "metadata": {},
     "output_type": "execute_result"
    }
   ],
   "source": [
    "import aiohttp\n",
    "\n",
    "async def fetch_roles(session, base_url):\n",
    "    \"\"\"\n",
    "    Asynchronously fetch skills data from the API endpoint.\n",
    "    \n",
    "    Args:\n",
    "        session (aiohttp.ClientSession): The aiohttp session for making requests.\n",
    "        base_url (str): The base URL of the API (e.g., 'http://example.com').\n",
    "    \n",
    "    Returns:\n",
    "        dict: The parsed JSON response.\n",
    "    \"\"\"\n",
    "    url = f\"{base_url}/api/skills/\"\n",
    "    async with session.get(url) as response:\n",
    "        if response.status == 200:\n",
    "            return await response.json()\n",
    "        else:\n",
    "            raise Exception(f\"Failed to fetch data: HTTP {response.status}\")\n",
    "\n",
    "async def list_roles():\n",
    "    base_url = \"http://192.168.71.115\"  # Replace with your actual base URL\n",
    "    async with aiohttp.ClientSession() as session:\n",
    "        try:\n",
    "            data = await fetch_roles(session, base_url)\n",
    "            # Example: Access the roles\n",
    "            roles = [item[\"role\"] for item in data[\"data\"]]\n",
    "            return {\"roles\": roles}\n",
    "        except Exception as e:\n",
    "            print(f\"Error: {e}\")\n",
    "await list_roles()"
   ]
  },
  {
   "cell_type": "code",
   "execution_count": 24,
   "id": "7b6d6626",
   "metadata": {},
   "outputs": [],
   "source": [
    "roles = await list_roles()"
   ]
  },
  {
   "cell_type": "code",
   "execution_count": 25,
   "id": "67b5d780",
   "metadata": {},
   "outputs": [
    {
     "data": {
      "text/plain": [
       "{'roles': ['Computer Hardware Engineer',\n",
       "  'Linux Admin',\n",
       "  'Manager',\n",
       "  'cloud engineer']}"
      ]
     },
     "execution_count": 25,
     "metadata": {},
     "output_type": "execute_result"
    }
   ],
   "source": [
    "roles"
   ]
  },
  {
   "cell_type": "code",
   "execution_count": 27,
   "id": "dffdfd28",
   "metadata": {},
   "outputs": [
    {
     "data": {
      "text/plain": [
       "{'roles': ['Computer Hardware Engineer',\n",
       "  'Linux Admin',\n",
       "  'Manager',\n",
       "  'cloud engineer']}"
      ]
     },
     "execution_count": 27,
     "metadata": {},
     "output_type": "execute_result"
    }
   ],
   "source": [
    "import aiohttp\n",
    "\n",
    "\n",
    "class RoleFetcher:\n",
    "    \"\"\"\n",
    "    A class to asynchronously fetch roles from the API.\n",
    "    \"\"\"\n",
    "\n",
    "    def __init__(self, base_url: str = \"http://192.168.71.115\"):\n",
    "        \"\"\"\n",
    "        Initialize the RoleFetcher with the base URL of the API.\n",
    "\n",
    "        Args:\n",
    "            base_url (str): The base URL of the API (e.g., 'http://192.168.71.115').\n",
    "        \"\"\"\n",
    "        self.base_url = base_url\n",
    "\n",
    "    async def fetch_roles(self):\n",
    "        \"\"\"\n",
    "        Asynchronously fetch roles from the API endpoint.\n",
    "\n",
    "        Returns:\n",
    "            dict: A dictionary containing the list of roles.\n",
    "\n",
    "        Raises:\n",
    "            Exception: If the API request fails.\n",
    "        \"\"\"\n",
    "        url = f\"{self.base_url}/api/skills/\"\n",
    "        async with aiohttp.ClientSession() as session:\n",
    "            async with session.get(url) as response:\n",
    "                if response.status == 200:\n",
    "                    data = await response.json()\n",
    "                    roles = [item[\"role\"] for item in data[\"data\"]]\n",
    "                    return {\"roles\": roles}\n",
    "                else:\n",
    "                    raise Exception(f\"Failed to fetch data: HTTP {response.status}\")\n",
    "\n",
    "    async def list_roles(self):\n",
    "        \"\"\"\n",
    "        Asynchronously list roles from the API.\n",
    "\n",
    "        Returns:\n",
    "            dict: A dictionary containing the list of roles.\n",
    "\n",
    "        Raises:\n",
    "            Exception: If the API request fails.\n",
    "        \"\"\"\n",
    "        return await self.fetch_roles()\n",
    "\n",
    "\n",
    "fetcher = RoleFetcher()\n",
    "\n",
    "await fetcher.list_roles()"
   ]
  },
  {
   "cell_type": "code",
   "execution_count": 30,
   "id": "8f0f013c",
   "metadata": {},
   "outputs": [],
   "source": [
    "from pydantic import BaseModel, Field\n",
    "\n",
    "from support_hub.ticket_classifier.models.utils import RoleFetcher\n",
    "\n",
    "\n",
    "async def get_roles():\n",
    "    fetcher = RoleFetcher()\n",
    "    try:\n",
    "        result = await fetcher.list_roles()\n",
    "        return result.get(\"roles\", [])\n",
    "    except Exception as e:\n",
    "        print(f\"Error: {e}\")\n",
    "a = await get_roles()\n",
    "\n",
    "class Roles(BaseModel):\n",
    "    role_names: list[str] = Field(default=a, description=\"Names of the roles\")\n"
   ]
  },
  {
   "cell_type": "code",
   "execution_count": 31,
   "id": "15122592",
   "metadata": {},
   "outputs": [
    {
     "data": {
      "text/plain": [
       "Roles(role_names=['Computer Hardware Engineer', 'Linux Admin', 'Manager', 'cloud engineer'])"
      ]
     },
     "execution_count": 31,
     "metadata": {},
     "output_type": "execute_result"
    }
   ],
   "source": [
    "Roles(role_names=a)"
   ]
  },
  {
   "cell_type": "code",
   "execution_count": null,
   "id": "92ef980e",
   "metadata": {},
   "outputs": [],
   "source": [
    "from typing import Literal\n",
    "\n"
   ]
  },
  {
   "cell_type": "code",
   "execution_count": 35,
   "id": "3a54397e",
   "metadata": {},
   "outputs": [
    {
     "data": {
      "text/plain": [
       "typing.Literal[['i', 'am', 'sourabh']]"
      ]
     },
     "execution_count": 35,
     "metadata": {},
     "output_type": "execute_result"
    }
   ],
   "source": [
    "a"
   ]
  },
  {
   "cell_type": "code",
   "execution_count": 37,
   "id": "eaae3c18",
   "metadata": {},
   "outputs": [],
   "source": [
    "from support_hub.ticket_classifier.parsers.output_parsers import get_pydantic_role_parser\n",
    "\n",
    "p = get_pydantic_role_parser()"
   ]
  },
  {
   "cell_type": "code",
   "execution_count": 43,
   "id": "79a56fa5",
   "metadata": {},
   "outputs": [
    {
     "name": "stdout",
     "output_type": "stream",
     "text": [
      "\n",
      "You are an IT support ticket classifier.\n",
      "\n",
      "Given the ticket, provide the following:\n",
      "\n",
      "role: a single resolver role to assign this ticket to.\n",
      "   - Return exactly one string that matches character-for-character one of the provided roles.\n",
      "   - Do not invent or modify role names.\n",
      "   - If multiple roles could apply, choose the most specialized technical role aligned with the primary action implied by the ticket.\n",
      "   - If unable to confidently select an exact match from the provided roles, return \"Manager\" by default.\n",
      "\n",
      "The output should be formatted as a JSON instance that conforms to the JSON schema below.\n",
      "\n",
      "As an example, for the schema {\"properties\": {\"foo\": {\"title\": \"Foo\", \"description\": \"a list of strings\", \"type\": \"array\", \"items\": {\"type\": \"string\"}}}, \"required\": [\"foo\"]}\n",
      "the object {\"foo\": [\"bar\", \"baz\"]} is a well-formatted instance of the schema. The object {\"properties\": {\"foo\": [\"bar\", \"baz\"]}} is not well-formatted.\n",
      "\n",
      "Here is the output schema:\n",
      "```\n",
      "{\"$defs\": {\"Roles\": {\"enum\": [\"Computer Hardware Engineer\", \"Linux Admin\", \"Manager\", \"cloud engineer\"], \"title\": \"Roles\", \"type\": \"string\"}}, \"properties\": {\"role_name\": {\"$ref\": \"#/$defs/Roles\", \"description\": \"Name of the role\"}}, \"required\": [\"role_name\"]}\n",
      "```\n",
      "\n",
      "Ticket:\n",
      "```\n",
      "my active directory is locked\n",
      "```\n",
      "\n"
     ]
    }
   ],
   "source": [
    "from support_hub.ticket_classifier.prompts.ticket_prompt import get_ticket_classification_prompt_roles\n",
    "\n",
    "print(get_ticket_classification_prompt_roles(p.get_format_instructions()).invoke({\"ticket\": \"my active directory is locked\"}).to_string())"
   ]
  },
  {
   "cell_type": "code",
   "execution_count": null,
   "id": "ed915ddb",
   "metadata": {},
   "outputs": [],
   "source": []
  }
 ],
 "metadata": {
  "kernelspec": {
   "display_name": "ai (3.12.11)",
   "language": "python",
   "name": "python3"
  },
  "language_info": {
   "codemirror_mode": {
    "name": "ipython",
    "version": 3
   },
   "file_extension": ".py",
   "mimetype": "text/x-python",
   "name": "python",
   "nbconvert_exporter": "python",
   "pygments_lexer": "ipython3",
   "version": "3.12.11"
  }
 },
 "nbformat": 4,
 "nbformat_minor": 5
}
